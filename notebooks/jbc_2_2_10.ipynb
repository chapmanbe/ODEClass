{
 "cells": [
  {
   "cell_type": "markdown",
   "metadata": {},
   "source": [
    "## Solution to 2.2.10\n",
    "\n",
    "Based on https://calculuswithjulia.github.io/ODEs/odes.html"
   ]
  },
  {
   "cell_type": "code",
   "execution_count": null,
   "metadata": {},
   "outputs": [],
   "source": [
    "using SymPy\n",
    "using Plots\n",
    "gr()"
   ]
  },
  {
   "cell_type": "code",
   "execution_count": null,
   "metadata": {},
   "outputs": [],
   "source": [
    "@vars t x0\n",
    "x = SymFunction(\"x\");\n",
    "eqn2_2_10 = x'(t)-7x(t)+x(t)^2+10\n",
    "dsolve(eqn2_2_10)"
   ]
  },
  {
   "cell_type": "code",
   "execution_count": null,
   "metadata": {},
   "outputs": [],
   "source": [
    "@vars x t D\n",
    "@vars x0 positive=true\n",
    "#x,t = symbols(\"x,t \")\n",
    "F2_2_10(x,t) = 7x-x^2-10\n",
    "p = plot(VectorField(F2_2_10), xlims=(0,2), ylims=(-8,8), n=20)\n",
    "\n",
    "for x0 in 0:2:20\n",
    "   f(t) = (2*x0*exp(-3t)-5)/(x0*exp(-3t)-1)\n",
    "  plot!(p, f, 0,5, linewidth=1, xlims=(0,2), ylims=(-8,8))\n",
    "end\n",
    "p"
   ]
  },
  {
   "cell_type": "code",
   "execution_count": null,
   "metadata": {},
   "outputs": [],
   "source": []
  },
  {
   "cell_type": "code",
   "execution_count": null,
   "metadata": {},
   "outputs": [],
   "source": [
    "(2*(5-x0)+5*(x0-2)*exp(3t))/(5-x0+(x0-2)*exp(3t))"
   ]
  },
  {
   "cell_type": "code",
   "execution_count": null,
   "metadata": {},
   "outputs": [],
   "source": [
    "@vars x t D\n",
    "@vars x0 positive=true\n",
    "#x,t = symbols(\"x,t \")\n",
    "F2_2_10(x,t) = 7x-x^2-10\n",
    "p = plot(VectorField(F2_2_10), xlims=(0,2.5), ylims=(-8,8))\n",
    "\n",
    "for x0 in -5:2:10\n",
    "   f(t) = (2*(5-x0)+5*(x0-2)*exp(3t))/(5-x0+(x0-2)*exp(3t))\n",
    "  plot!(p, f, 0,5, linewidth=1, xlims=(0,2.5), ylims=(-8,8))\n",
    "end\n",
    "p"
   ]
  },
  {
   "cell_type": "code",
   "execution_count": null,
   "metadata": {},
   "outputs": [],
   "source": [
    "solve(7x-x^2-10,x)"
   ]
  },
  {
   "cell_type": "code",
   "execution_count": null,
   "metadata": {},
   "outputs": [],
   "source": []
  }
 ],
 "metadata": {
  "kernelspec": {
   "display_name": "This is my Julia 1.1.0",
   "language": "julia",
   "name": "julia-1.1"
  },
  "language_info": {
   "file_extension": ".jl",
   "mimetype": "application/julia",
   "name": "julia",
   "version": "1.1.0"
  },
  "latex_envs": {
   "LaTeX_envs_menu_present": true,
   "autoclose": false,
   "autocomplete": true,
   "bibliofile": "biblio.bib",
   "cite_by": "apalike",
   "current_citInitial": 1,
   "eqLabelWithNumbers": true,
   "eqNumInitial": 1,
   "hotkeys": {
    "equation": "Ctrl-E",
    "itemize": "Ctrl-I"
   },
   "labels_anchors": false,
   "latex_user_defs": false,
   "report_style_numbering": false,
   "user_envs_cfg": false
  }
 },
 "nbformat": 4,
 "nbformat_minor": 2
}
