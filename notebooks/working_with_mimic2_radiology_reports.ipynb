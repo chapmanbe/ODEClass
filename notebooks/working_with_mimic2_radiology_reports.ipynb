{
 "cells": [
  {
   "cell_type": "code",
   "execution_count": null,
   "metadata": {},
   "outputs": [],
   "source": [
    "using MySQL\n",
    "using DataFrames\n",
    "using TextAnalysis\n",
    "conn = mysql_connect(\"mysql\", \"jovyan\", \"jovyan\", \"mimic2\")"
   ]
  },
  {
   "cell_type": "markdown",
   "metadata": {},
   "source": [
    "### Use Pandas and SQL to create a dataframe with the following:\n",
    "* subject_id\n",
    "* hospital admission id\n",
    "* text of the radiology report\n",
    "* Limit the number of reports to 10000"
   ]
  },
  {
   "cell_type": "code",
   "execution_count": null,
   "metadata": {},
   "outputs": [],
   "source": [
    "rad_data = \n",
    "mysql_execute(conn, \"\"\"SELECT DISTINCT noteevents.subject_id, \n",
    "                      noteevents.hadm_id,\n",
    "                      noteevents.text \n",
    "               FROM noteevents\n",
    "               WHERE noteevents.category = 'RADIOLOGY_REPORT' LIMIT 10000\"\"\")\n",
    "head(rad_data)"
   ]
  },
  {
   "cell_type": "code",
   "execution_count": null,
   "metadata": {},
   "outputs": [],
   "source": [
    "size(rad_data)"
   ]
  },
  {
   "cell_type": "markdown",
   "metadata": {},
   "source": [
    "### Write a function that returns the impression section of a report\n",
    "\n",
    "#### Hints\n",
    "\n",
    "* Not every report will have an impression section\n",
    "* \"INTERPRETATION\" and \"CONCLUSIONS\" might be synonyms for \"IMPRESSION\""
   ]
  },
  {
   "cell_type": "code",
   "execution_count": null,
   "metadata": {},
   "outputs": [],
   "source": [
    "function get_impression(report)\n",
    "    headers = (\"IMPRESSION:\", \"INTERPRETATION:\", \"CONCLUSIONS:\")\n",
    "    for h in headers\n",
    "        if contains(report, h)\n",
    "            return split(report, h)[2]\n",
    "        end\n",
    "    end\n",
    "    return report\n",
    "end\n",
    "        \n"
   ]
  },
  {
   "cell_type": "code",
   "execution_count": null,
   "metadata": {},
   "outputs": [],
   "source": [
    "println(rad_data[:text][21])"
   ]
  },
  {
   "cell_type": "markdown",
   "metadata": {},
   "source": [
    "#### In how many reports did we find an impression section?"
   ]
  },
  {
   "cell_type": "code",
   "execution_count": null,
   "metadata": {},
   "outputs": [],
   "source": [
    "function count_impression(report)\n",
    "    headers = (\"IMPRESSION:\", \"INTERPRETATION:\", \"CONCLUSIONS:\")\n",
    "    for h in headers\n",
    "        if contains(report, h)\n",
    "            return true\n",
    "        end\n",
    "    end\n",
    "    return false\n",
    "end\n"
   ]
  },
  {
   "cell_type": "code",
   "execution_count": null,
   "metadata": {},
   "outputs": [],
   "source": [
    "sum([count_impression(report) for report in rad_data[:text]])"
   ]
  },
  {
   "cell_type": "markdown",
   "metadata": {},
   "source": [
    "### Define Regular expressions for data cleansing\n",
    "\n",
    "* Write a regular expression to replace dates in the reports with ``[**DATE**]``\n",
    "* Write a regular expression to replace times in the reports with ``[**TIME**]``\n",
    "* Write a regular expression to replaces digits with \"d\", (e.g. \"43 cc\" would become \"dd cm\")\n",
    "\n",
    "#### Hints\n",
    "\n",
    "* Look at some sample reports to see what dates and times look like in the reports\n",
    "* What order would you need to apply the regular expressions?"
   ]
  },
  {
   "cell_type": "code",
   "execution_count": null,
   "metadata": {},
   "outputs": [],
   "source": [
    "println(rad_data[1,:text])"
   ]
  },
  {
   "cell_type": "code",
   "execution_count": null,
   "metadata": {},
   "outputs": [],
   "source": [
    "for i in 1:10\n",
    "    println(rad_data[i,:text])\n",
    "    println(repeat(\"*\",42))\n",
    "    println()\n",
    "end"
   ]
  },
  {
   "cell_type": "code",
   "execution_count": null,
   "metadata": {},
   "outputs": [],
   "source": [
    "date = r\"\"\"(DATE: \\[\\*\\*\\d{4,4}-\\d{1,2}-\\d{1,2}\\*\\*\\] \\d{1,2}:\\d{1,2} (AM|PM))\"\"\"i"
   ]
  },
  {
   "cell_type": "code",
   "execution_count": null,
   "metadata": {},
   "outputs": [],
   "source": [
    "println(rad_data[1,:text])"
   ]
  },
  {
   "cell_type": "code",
   "execution_count": null,
   "metadata": {},
   "outputs": [],
   "source": [
    "matchall(date, rad_data[1,:text])"
   ]
  },
  {
   "cell_type": "code",
   "execution_count": null,
   "metadata": {},
   "outputs": [],
   "source": [
    "rd = r\"\"\"\\d\"\"\""
   ]
  },
  {
   "cell_type": "code",
   "execution_count": null,
   "metadata": {},
   "outputs": [],
   "source": [
    "println(replace(rad_data[1, :text], rd, \"d\"))"
   ]
  },
  {
   "cell_type": "code",
   "execution_count": null,
   "metadata": {},
   "outputs": [],
   "source": [
    "rad_data[:impression] = map((x) -> get_impression(x), rad_data[:text]);"
   ]
  },
  {
   "cell_type": "code",
   "execution_count": null,
   "metadata": {},
   "outputs": [],
   "source": [
    "head(rad_data)"
   ]
  },
  {
   "cell_type": "markdown",
   "metadata": {},
   "source": [
    "### How many unique words occur in the corpus?\n",
    "\n",
    "#### Hint\n",
    "\n",
    "1. Use TextBlob\n",
    "1. Put all the reports into a single string"
   ]
  },
  {
   "cell_type": "code",
   "execution_count": null,
   "metadata": {},
   "outputs": [],
   "source": [
    "unique_impression_words = set(TextBlob(\" \".join(rad_data[\"impression\"])).words)\n",
    "len(unique_impression_words)"
   ]
  },
  {
   "cell_type": "code",
   "execution_count": null,
   "metadata": {},
   "outputs": [],
   "source": [
    "using Languages"
   ]
  },
  {
   "cell_type": "code",
   "execution_count": null,
   "metadata": {},
   "outputs": [],
   "source": [
    "for w in stopwords(EnglishLanguage)\n",
    "    println(w)\n",
    "end"
   ]
  },
  {
   "cell_type": "code",
   "execution_count": null,
   "metadata": {},
   "outputs": [],
   "source": [
    "indefinite_articles(EnglishLanguage)"
   ]
  },
  {
   "cell_type": "code",
   "execution_count": null,
   "metadata": {},
   "outputs": [],
   "source": [
    "prepositions(EnglishLanguage)"
   ]
  },
  {
   "cell_type": "markdown",
   "metadata": {},
   "source": [
    "## Create a single string with all the reports\n",
    "\n",
    "#### Hints, etc.\n",
    "* Use List Comprehension\n",
    "* Use string joins\n",
    "* Iterate over the rows of the data frame"
   ]
  },
  {
   "cell_type": "code",
   "execution_count": null,
   "metadata": {},
   "outputs": [],
   "source": [
    "reports_txt = join(rad_data[:impression], \" \");"
   ]
  },
  {
   "cell_type": "markdown",
   "metadata": {},
   "source": [
    "### Define a vector space for the radiology corpus\n",
    "\n",
    "#### Hints\n",
    "\n",
    "1. How would you build a corpus from words only occuring more than N times?"
   ]
  },
  {
   "cell_type": "markdown",
   "metadata": {},
   "source": [
    "### Write a function to drop [stop words](https://en.wikipedia.org/wiki/Stop_words) from a report\n",
    "\n",
    "* The gensim package has stop words defined (``from gensim.parsing.preprocessing import STOPWORDS``\n",
    "\n",
    "#### Hints\n",
    "1. Do you agree with dropping all the stop words?\n",
    "1. How could we create a new stopwords frozen set absent the terms we wan't to keep (double negative?)\n",
    "1. You could use a regular expressions substitution or token the report first and operate on the list of words."
   ]
  },
  {
   "cell_type": "code",
   "execution_count": null,
   "metadata": {},
   "outputs": [],
   "source": [
    "function remove_stop(txt)\n",
    "    txt2 = StringDocument(txt)\n",
    "    remove_stop_words!(txt2)\n",
    "    return txt2\n",
    "end"
   ]
  },
  {
   "cell_type": "code",
   "execution_count": null,
   "metadata": {},
   "outputs": [],
   "source": [
    "text(remove_stop(\"hello in there\"))"
   ]
  },
  {
   "cell_type": "code",
   "execution_count": null,
   "metadata": {},
   "outputs": [],
   "source": [
    "rad_data[:impression_no_stops] = map((x) -> text(remove_stop(x)), rad_data[:text]);"
   ]
  },
  {
   "cell_type": "code",
   "execution_count": null,
   "metadata": {},
   "outputs": [],
   "source": [
    "println(rad_data[1,:impression])"
   ]
  },
  {
   "cell_type": "code",
   "execution_count": null,
   "metadata": {},
   "outputs": [],
   "source": [
    "println(rad_data[1,:impression_no_stops])"
   ]
  },
  {
   "cell_type": "code",
   "execution_count": null,
   "metadata": {},
   "outputs": [],
   "source": [
    "function get_words(txt)\n",
    "    sd = StringDocument(txt)\n",
    "    remove_punctuation!(sd)\n",
    "    return tokens(sd)\n",
    "end"
   ]
  },
  {
   "cell_type": "code",
   "execution_count": null,
   "metadata": {},
   "outputs": [],
   "source": [
    "rad_data[1,:impression_no_stops])"
   ]
  },
  {
   "cell_type": "code",
   "execution_count": null,
   "metadata": {},
   "outputs": [],
   "source": [
    "unique_impression_words = Set(get_words(replace(lowercase(join(rad_data[:impression_no_stops])),rd,'d')))\n"
   ]
  },
  {
   "cell_type": "code",
   "execution_count": null,
   "metadata": {},
   "outputs": [],
   "source": [
    "length(unique_impression_words)"
   ]
  },
  {
   "cell_type": "code",
   "execution_count": null,
   "metadata": {},
   "outputs": [],
   "source": [
    "word_map = Dict(zip(unique_impression_words,1:length(unique_impression_words)));"
   ]
  },
  {
   "cell_type": "code",
   "execution_count": null,
   "metadata": {},
   "outputs": [],
   "source": [
    "word_map[\"brain\"]"
   ]
  },
  {
   "cell_type": "code",
   "execution_count": null,
   "metadata": {},
   "outputs": [],
   "source": [
    "td = TokenDocument(\"This is sentence 1. This is sentence 2, isn't it?\")\n",
    "tokens(td)"
   ]
  },
  {
   "cell_type": "code",
   "execution_count": null,
   "metadata": {},
   "outputs": [],
   "source": [
    "ngblob = NGramDocument(join(rad_data[:impression], \" \"))"
   ]
  },
  {
   "cell_type": "code",
   "execution_count": null,
   "metadata": {},
   "outputs": [],
   "source": [
    "ngrams(ngblob, 2)"
   ]
  },
  {
   "cell_type": "code",
   "execution_count": null,
   "metadata": {},
   "outputs": [],
   "source": [
    "sblob = sentences(StringDocument(join(rad_data[:impression], \" \")))"
   ]
  },
  {
   "cell_type": "code",
   "execution_count": null,
   "metadata": {},
   "outputs": [],
   "source": [
    "ngrams(sblob,2)"
   ]
  },
  {
   "cell_type": "code",
   "execution_count": null,
   "metadata": {},
   "outputs": [],
   "source": []
  }
 ],
 "metadata": {
  "kernelspec": {
   "display_name": "Julia 0.5.2",
   "language": "julia",
   "name": "julia-0.5"
  },
  "language_info": {
   "file_extension": ".jl",
   "mimetype": "application/julia",
   "name": "julia",
   "version": "0.5.2"
  }
 },
 "nbformat": 4,
 "nbformat_minor": 1
}
