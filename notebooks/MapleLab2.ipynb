{
 "cells": [
  {
   "cell_type": "code",
   "execution_count": null,
   "metadata": {},
   "outputs": [],
   "source": [
    "using SymPy\n",
    "using Plots\n",
    "gr()"
   ]
  },
  {
   "cell_type": "markdown",
   "metadata": {},
   "source": [
    "Ambient Temperature Model. Let $M = 49$, $m = 21$, $\\omega_0 = \\pi/12$. The ambient temperature formula below satisfies $M = \\max A(t) = A(15)$, $m = \\min A(t) = A(3)$ and $A(t)$ is periodic of period 24 hours.\n",
    "\n",
    "\\begin{eqnarray}\n",
    "A(t) &= &1(M +m)− 1(M −m)\\cos{\\omega_0(t−3)}\\\\\n",
    "& = &35−14\\cos{\\omega_0(t−3)}\n",
    "\\end{eqnarray}"
   ]
  },
  {
   "cell_type": "markdown",
   "metadata": {},
   "source": [
    "#### 0.0.0.1 Declare the variables needed"
   ]
  },
  {
   "cell_type": "code",
   "execution_count": null,
   "metadata": {},
   "outputs": [],
   "source": [
    "@vars k positive=true\n",
    "@vars ω positive=true\n",
    "@vars ω_0 positive=true\n",
    "@vars t x u0"
   ]
  },
  {
   "cell_type": "markdown",
   "metadata": {},
   "source": [
    "#### 0.0.0.2 The Differential Equation Is"
   ]
  },
  {
   "cell_type": "markdown",
   "metadata": {},
   "source": [
    "\\begin{eqnarray}\n",
    "u^\\prime + ku = kA(t)\n",
    "\\end{eqnarray}\n",
    "Using the integrating factor method leads to the equation\n",
    "\n",
    "\\begin{eqnarray}\n",
    "u_p(t) = ke^{-kt}\\int_0^te^{kx}A(x)dx\\\\\n",
    "u_p(t) =ke^{-kt}\\int_0^te^{kx}(35−14\\cos{\\omega_0(x−3)})dx\n",
    "\\end{eqnarray}\n",
    "\n",
    "With $x$ being a dummy variable for the integration."
   ]
  },
  {
   "cell_type": "code",
   "execution_count": null,
   "metadata": {},
   "outputs": [],
   "source": [
    "integrand = (35 - 14*cos(ω_0*(x-3)))* k*exp(k*x)"
   ]
  },
  {
   "cell_type": "code",
   "execution_count": null,
   "metadata": {},
   "outputs": [],
   "source": [
    "u_p = exp(-k*t)*integrate(integrand, x, 0, t)"
   ]
  },
  {
   "cell_type": "code",
   "execution_count": null,
   "metadata": {},
   "outputs": [],
   "source": [
    "uh = u0*exp(-k*t)"
   ]
  },
  {
   "cell_type": "code",
   "execution_count": null,
   "metadata": {},
   "outputs": [],
   "source": [
    "u_sym = uh + u_p"
   ]
  },
  {
   "cell_type": "markdown",
   "metadata": {},
   "source": [
    "#### 0.0.0.3 Verify the solution"
   ]
  },
  {
   "cell_type": "markdown",
   "metadata": {},
   "source": [
    "By plugging the solution into the differential equation and subtracting the right hand side from the left hand side"
   ]
  },
  {
   "cell_type": "code",
   "execution_count": null,
   "metadata": {},
   "outputs": [],
   "source": [
    "LHS = diff(u_sym,t)+k*u_sym;"
   ]
  },
  {
   "cell_type": "code",
   "execution_count": null,
   "metadata": {},
   "outputs": [],
   "source": [
    "RHS = k*(35-14*cos(ω_0*(t-3)))"
   ]
  },
  {
   "cell_type": "code",
   "execution_count": null,
   "metadata": {},
   "outputs": [],
   "source": [
    "simplify(LHS-RHS)"
   ]
  },
  {
   "cell_type": "markdown",
   "metadata": {},
   "source": [
    "##### Thus, the answer matches that given"
   ]
  },
  {
   "cell_type": "code",
   "execution_count": null,
   "metadata": {},
   "outputs": [],
   "source": [
    "### myans1 = subs(myans,(k,0.32),(ω0,π/12), (u0,76))"
   ]
  },
  {
   "cell_type": "code",
   "execution_count": null,
   "metadata": {},
   "outputs": [],
   "source": [
    "### A(x) = subs((35 - 14*cos(ω0*(x-3))), (k,0.32),(ω0,π/12))"
   ]
  },
  {
   "cell_type": "markdown",
   "metadata": {},
   "source": [
    "### Problem 2.2\n",
    "#### Derive a formula for the steady-state periodic solution $u_{sss}$ of $u'+ku=kA(t)$\n",
    "##### $u_{ss}$ is obtained by removing all terms from the original $u$ containing the term $e^{-kt}$, yielding"
   ]
  },
  {
   "cell_type": "code",
   "execution_count": null,
   "metadata": {},
   "outputs": [],
   "source": [
    "u_ss= k*(14*ω_0^3*sin(ω_0*(t-3))/(k^4+k^2*ω_0^2)+14*ω_0^2*cos(ω_0*(t-3))/(k^3+k*ω_0^2)-14*cos(ω_0*(t-3))/k+35/k-14*ω_0*sin(ω_0*(t-3))/k^2)"
   ]
  },
  {
   "cell_type": "code",
   "execution_count": null,
   "metadata": {},
   "outputs": [],
   "source": [
    "simplify(u_ss)"
   ]
  },
  {
   "cell_type": "markdown",
   "metadata": {},
   "source": [
    "#### Verifying the answer for $u_{ss}$\n",
    "##### The given answer is:"
   ]
  },
  {
   "cell_type": "code",
   "execution_count": null,
   "metadata": {},
   "outputs": [],
   "source": [
    "u_ss_1 = (35 - 14*k/(k^2 + ω_0^2)*(k*cos(ω_0*(t-3))+ω_0*sin(ω_0*(t-3))))"
   ]
  },
  {
   "cell_type": "markdown",
   "metadata": {},
   "source": [
    "##### This equals the answer reached above"
   ]
  },
  {
   "cell_type": "code",
   "execution_count": null,
   "metadata": {},
   "outputs": [],
   "source": [
    "simplify(u_ss - u_ss_1)"
   ]
  },
  {
   "cell_type": "markdown",
   "metadata": {},
   "source": [
    "#### $u(t) = Ce^{-kt} + u_{ss}(t)$\n",
    "#### $C = u_0 - u_{ss}(0)$"
   ]
  },
  {
   "cell_type": "code",
   "execution_count": null,
   "metadata": {},
   "outputs": [],
   "source": [
    "@vars C_1"
   ]
  },
  {
   "cell_type": "code",
   "execution_count": null,
   "metadata": {},
   "outputs": [],
   "source": [
    "C_1 = simplify(u_sym - u_ss)/exp(-k*t)"
   ]
  },
  {
   "cell_type": "markdown",
   "metadata": {},
   "source": [
    "##### Verifying this answer for $C$"
   ]
  },
  {
   "cell_type": "code",
   "execution_count": null,
   "metadata": {},
   "outputs": [],
   "source": [
    "C_1 - simplify(subs(u_sym, (t,0)) - subs(u_ss, (t, 0)))"
   ]
  },
  {
   "cell_type": "code",
   "execution_count": null,
   "metadata": {},
   "outputs": [],
   "source": [
    "### maxT = 48\n",
    "### maxA = maximum(map(A,0:maxT))\n",
    "### minA = minimum(map(A,0:maxT))\n",
    "### maxu = maximum(map(myans1,0:maxT))\n",
    "### minu = minimum(map(myans1,0:maxT))\n",
    "\n",
    "### plot(myans1,0,maxT)\n",
    "### plot!(x->maxA,0,maxT)#,line_color='r')#, color=(1,0,0))\n",
    "### plot!(x->minA, 0, maxT)#, color=(1,0,0))\n",
    "### plot!(x->maxu,0,maxT)\n",
    "### plot!(x->minu,0,maxT)\n",
    "### plot!(legend=false)"
   ]
  },
  {
   "cell_type": "code",
   "execution_count": null,
   "metadata": {},
   "outputs": [],
   "source": [
    "### eqnu = 35 - 14*k/(k^2 + ω^2)*cos(ω*(t-3)) - (14*ω)/(k^2 + ω^2)*sin(ω*(t-3))"
   ]
  },
  {
   "cell_type": "code",
   "execution_count": null,
   "metadata": {},
   "outputs": [],
   "source": [
    "### simplify(diff(eqnu,t)+k*eqnu)"
   ]
  },
  {
   "cell_type": "markdown",
   "metadata": {},
   "source": [
    "\\begin{eqnarray}\n",
    "u'+ku=k(35-14\\cos(\\omega (t-3)))\\\\\n",
    "\\frac{(ue^{kt})'}{e^{kt}}=k(35-14\\cos(\\omega (t-3)))\\\\\n",
    "(ue^{kt})'=ke^{kt}(35-14\\cos(\\omega (t-3)))\\\\\n",
    "ue^{kt}=\\int ke^{kt}(35-14\\cos(\\omega (t-3))) \\text{ }dt\\\\\n",
    "\\int ke^{kt}(35-14\\cos(\\omega (t-3))) \\text{ }dt=35\\int ke^{kt} dt -14\\int ke^{kt}\\cos(\\omega (t-3))\\text{ }dt\n",
    "\\end{eqnarray}"
   ]
  },
  {
   "cell_type": "code",
   "execution_count": null,
   "metadata": {},
   "outputs": [],
   "source": [
    "### @vars c"
   ]
  },
  {
   "cell_type": "code",
   "execution_count": null,
   "metadata": {},
   "outputs": [],
   "source": [
    "### eqnu2 = eqnu + c*exp(-k*t)"
   ]
  },
  {
   "cell_type": "code",
   "execution_count": null,
   "metadata": {},
   "outputs": [],
   "source": [
    "### simplify(diff(eqnu2,t)+k*eqnu2)"
   ]
  },
  {
   "cell_type": "markdown",
   "metadata": {},
   "source": [
    "### Problem 2.3\n",
    "#### Compare in a graphic oscillations of the indoor temperature $u(t)$ and the outdoor temperature $A(t)$ over a 48-hour period, assuming $k=0.32, u_0= 76, \\omega_0=\\frac{\\pi}{12}$"
   ]
  },
  {
   "cell_type": "code",
   "execution_count": null,
   "metadata": {},
   "outputs": [],
   "source": [
    "A(t) = subs((35 - 14*cos(ω_0*(t-3))), (k,0.32), (ω_0,π/12))"
   ]
  },
  {
   "cell_type": "code",
   "execution_count": null,
   "metadata": {},
   "outputs": [],
   "source": [
    "u = subs(subs(subs(u_sym, (u0,76)), (ω_0, π/12)), (k, 0.32))"
   ]
  },
  {
   "cell_type": "code",
   "execution_count": null,
   "metadata": {},
   "outputs": [],
   "source": [
    "min_A = 21\n",
    "max_A = 49"
   ]
  },
  {
   "cell_type": "code",
   "execution_count": null,
   "metadata": {},
   "outputs": [],
   "source": [
    "min_u = 24\n",
    "max_u = 76"
   ]
  },
  {
   "cell_type": "code",
   "execution_count": null,
   "metadata": {},
   "outputs": [],
   "source": [
    "plot(u, 0, 48)"
   ]
  },
  {
   "cell_type": "code",
   "execution_count": null,
   "metadata": {},
   "outputs": [],
   "source": [
    "plot!(A(t))"
   ]
  },
  {
   "cell_type": "code",
   "execution_count": null,
   "metadata": {},
   "outputs": [],
   "source": [
    "plot!(x->min_A)\n",
    "plot!(x->max_A)\n",
    "plot!(x->min_u)\n",
    "plot(x->max_u)"
   ]
  },
  {
   "cell_type": "code",
   "execution_count": null,
   "metadata": {},
   "outputs": [],
   "source": []
  },
  {
   "cell_type": "code",
   "execution_count": null,
   "metadata": {},
   "outputs": [],
   "source": []
  },
  {
   "cell_type": "code",
   "execution_count": null,
   "metadata": {},
   "outputs": [],
   "source": []
  },
  {
   "cell_type": "code",
   "execution_count": null,
   "metadata": {},
   "outputs": [],
   "source": []
  },
  {
   "cell_type": "markdown",
   "metadata": {},
   "source": [
    "##### Moving on, for now, but I must come back to that $\\text{min}_u$"
   ]
  },
  {
   "cell_type": "markdown",
   "metadata": {},
   "source": [
    "### Problem 2.4\n",
    "#### Assume $\\omega = \\frac{\\pi}{12}$ and the insulation constant $k$ ranges from $0.2$ to $0.48$. Report approximate ranges of hours and insulation constants, during the first 72 hours and $0.2 < k < 0.48$, for which the indoor temperature is at or below $30º$. Justify your logic used to find the ranges, in a short paragraph. Illustrate with a computer graphic."
   ]
  },
  {
   "cell_type": "code",
   "execution_count": null,
   "metadata": {},
   "outputs": [],
   "source": [
    "using Roots\n",
    "using Printf\n",
    "using IntervalArithmetic, IntervalRootFinding"
   ]
  },
  {
   "cell_type": "code",
   "execution_count": null,
   "metadata": {},
   "outputs": [],
   "source": [
    "u_2 = subs(subs(subs(u_sym, (u0,76)), (ω_0, π/12)), (k, 0.2))"
   ]
  },
  {
   "cell_type": "code",
   "execution_count": null,
   "metadata": {},
   "outputs": [],
   "source": [
    "plot(u_2-30, 0, 72)"
   ]
  },
  {
   "cell_type": "code",
   "execution_count": null,
   "metadata": {},
   "outputs": [],
   "source": [
    "fzero(u_2-30, [25,30]), fzero(u_2-30, [30,35]), fzero(u_2-30, [50,55]), fzero(u_2-30, [55,60])\n",
    "\n"
   ]
  },
  {
   "cell_type": "code",
   "execution_count": null,
   "metadata": {},
   "outputs": [],
   "source": [
    "u_25 = subs(subs(subs(u_sym, (u0,76)), (ω_0, π/12)), (k, 0.25))"
   ]
  },
  {
   "cell_type": "code",
   "execution_count": null,
   "metadata": {},
   "outputs": [],
   "source": [
    "plot(u_25-30, 0, 72)"
   ]
  },
  {
   "cell_type": "code",
   "execution_count": null,
   "metadata": {},
   "outputs": [],
   "source": [
    "fzero(u_25-30, [25,30]), fzero(u_25-30, [30,35]), fzero(u_25-30, [50,55]), fzero(u_25-30, [55,60])\n"
   ]
  },
  {
   "cell_type": "code",
   "execution_count": null,
   "metadata": {},
   "outputs": [],
   "source": [
    "u_3 = subs(subs(subs(u_sym, (u0,76)), (ω_0, π/12)), (k, 0.3))"
   ]
  },
  {
   "cell_type": "code",
   "execution_count": null,
   "metadata": {},
   "outputs": [],
   "source": [
    "plot(u_3-30, 0, 72)"
   ]
  },
  {
   "cell_type": "code",
   "execution_count": null,
   "metadata": {},
   "outputs": [],
   "source": [
    "fzero(u_3-30, [5,7.5]), fzero(u_3-30, [7.5,10]), fzero(u_3-30, [20,30]), fzero(u_3-30, [30,40]), fzero(u_3-30, [40,55]), fzero(u_3-30, [55,60])\n",
    "\n"
   ]
  },
  {
   "cell_type": "code",
   "execution_count": null,
   "metadata": {},
   "outputs": [],
   "source": [
    "u_35 = subs(subs(subs(u_sym, (u0,76)), (ω_0, π/12)), (k, 0.35))"
   ]
  },
  {
   "cell_type": "code",
   "execution_count": null,
   "metadata": {},
   "outputs": [],
   "source": [
    "plot(u_35-30, 0, 72)"
   ]
  },
  {
   "cell_type": "code",
   "execution_count": null,
   "metadata": {},
   "outputs": [],
   "source": [
    "fzero(u_35-30, [0,6]), fzero(u_35-30, [6,10]), fzero(u_35-30, [20,30]), fzero(u_35-30, [30,40]), fzero(u_35-30, [40,55]), fzero(u_35-30, [55,60])\n"
   ]
  },
  {
   "cell_type": "code",
   "execution_count": null,
   "metadata": {},
   "outputs": [],
   "source": [
    "u_4 = subs(subs(subs(u_sym, (u0,76)), (ω_0, π/12)), (k, 0.4))"
   ]
  },
  {
   "cell_type": "code",
   "execution_count": null,
   "metadata": {},
   "outputs": [],
   "source": [
    "plot(u_4-30, 0, 72)"
   ]
  },
  {
   "cell_type": "code",
   "execution_count": null,
   "metadata": {},
   "outputs": [],
   "source": [
    "fzero(u_4-30, [0,6]), fzero(u_4-30, [6,10]), fzero(u_4-30, [20,30]), fzero(u_4-30, [30,40]), fzero(u_4-30, [40,55]), fzero(u_4-30, [55,60])\n"
   ]
  },
  {
   "cell_type": "code",
   "execution_count": null,
   "metadata": {},
   "outputs": [],
   "source": [
    "u_45 = subs(subs(subs(u_sym, (u0,76)), (ω_0, π/12)), (k, 0.45))"
   ]
  },
  {
   "cell_type": "code",
   "execution_count": null,
   "metadata": {},
   "outputs": [],
   "source": [
    "plot(u_45-30, 0, 72)"
   ]
  },
  {
   "cell_type": "code",
   "execution_count": null,
   "metadata": {},
   "outputs": [],
   "source": [
    "fzero(u_45-30, [0,6]), fzero(u_45-30, [6,10]), fzero(u_45-30, [20,30]), fzero(u_45-30, [30,40]), fzero(u_45-30, [40,55]), fzero(u_45-30, [55,60])"
   ]
  },
  {
   "cell_type": "code",
   "execution_count": null,
   "metadata": {},
   "outputs": [],
   "source": [
    "u_48 = subs(subs(subs(u_sym, (u0,76)), (ω_0, π/12)), (k, 0.48))"
   ]
  },
  {
   "cell_type": "code",
   "execution_count": null,
   "metadata": {},
   "outputs": [],
   "source": [
    "fzero(u_48-30, [0,6]), fzero(u_48-30, [6,10]), fzero(u_48-30, [20,30]), fzero(u_48-30, [30,40]), fzero(u_48-30, [40,55]), fzero(u_48-30, [55,60])"
   ]
  },
  {
   "cell_type": "markdown",
   "metadata": {},
   "source": [
    "#### Approximations of when the inside temperature is below $30º$:\n",
    "\\begin{eqnarray}\n",
    "0.2\\le k\\le 0.25: {26.6 - 34.045; 50.5375 - 58.0585}; 14.97 \\text{ hrs total}\\\\\n",
    "0.3\\le k\\le 0.35: {6.38 - 8.4291; 25.42815 - 33.7705; 49.0585 - 57.77705}; 19.11 \\text{ hrs total}\\\\\n",
    "0.35\\le k\\le 0.4: {5.10315 - 9.0212; 25.06015 - 33.608; 49.0585 - 57.608}; 21.02 \\text{ hrs total}\\\\\n",
    "0.4\\le k\\le 0.45: {4.42965 - 9.1192; 24.2695 - 33.4575; 48.769 - 57.4575}; 22.57 \\text{ hrs total}\\\\\n",
    "0.45\\le k\\le 0.48: {4.02435 - 9.12235; 24.708 - 33.3465; 48.5735 - 57.3465}; 22.51 \\text{ hrs total}\n",
    "\\end{eqnarray}"
   ]
  },
  {
   "cell_type": "code",
   "execution_count": null,
   "metadata": {},
   "outputs": [],
   "source": []
  }
 ],
 "metadata": {
  "kernelspec": {
   "display_name": "This is my Julia 1.1.0",
   "language": "julia",
   "name": "julia-1.1"
  },
  "language_info": {
   "file_extension": ".jl",
   "mimetype": "application/julia",
   "name": "julia",
   "version": "1.1.0"
  },
  "latex_envs": {
   "LaTeX_envs_menu_present": true,
   "autoclose": false,
   "autocomplete": true,
   "bibliofile": "biblio.bib",
   "cite_by": "apalike",
   "current_citInitial": 1,
   "eqLabelWithNumbers": true,
   "eqNumInitial": 1,
   "hotkeys": {
    "equation": "Ctrl-E",
    "itemize": "Ctrl-I"
   },
   "labels_anchors": false,
   "latex_user_defs": false,
   "report_style_numbering": false,
   "user_envs_cfg": false
  }
 },
 "nbformat": 4,
 "nbformat_minor": 2
}
